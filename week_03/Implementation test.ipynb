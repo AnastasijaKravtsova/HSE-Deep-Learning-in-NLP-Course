{
 "cells": [
  {
   "cell_type": "code",
   "execution_count": 1,
   "metadata": {},
   "outputs": [],
   "source": [
    "import torch\n",
    "import modeling"
   ]
  },
  {
   "cell_type": "code",
   "execution_count": 2,
   "metadata": {},
   "outputs": [],
   "source": [
    "rnn_cell = modeling.RNNCell(in_features=128, hidden_features=64)"
   ]
  },
  {
   "cell_type": "code",
   "execution_count": 3,
   "metadata": {},
   "outputs": [],
   "source": [
    "x = torch.rand(32, 128)"
   ]
  },
  {
   "cell_type": "code",
   "execution_count": 4,
   "metadata": {},
   "outputs": [],
   "source": [
    "memory = rnn_cell.init_memory(batch_size=x.shape[0])"
   ]
  },
  {
   "cell_type": "code",
   "execution_count": 5,
   "metadata": {},
   "outputs": [],
   "source": [
    "pred, memory = rnn_cell(x, memory)"
   ]
  },
  {
   "cell_type": "code",
   "execution_count": 6,
   "metadata": {},
   "outputs": [
    {
     "data": {
      "text/plain": [
       "torch.Size([32, 64])"
      ]
     },
     "execution_count": 6,
     "metadata": {},
     "output_type": "execute_result"
    }
   ],
   "source": [
    "pred.shape"
   ]
  },
  {
   "cell_type": "code",
   "execution_count": 7,
   "metadata": {},
   "outputs": [
    {
     "data": {
      "text/plain": [
       "tensor([[-0.3369, -0.3292, -0.3237,  ...,  0.4945, -0.2610,  0.3480],\n",
       "        [-0.2680, -0.5288, -0.1565,  ...,  0.6043, -0.2498,  0.0741],\n",
       "        [-0.2436, -0.5758, -0.2917,  ...,  0.5885, -0.3456,  0.0952],\n",
       "        ...,\n",
       "        [-0.2518, -0.6194, -0.0176,  ...,  0.7087, -0.0825,  0.1125],\n",
       "        [-0.1086, -0.3499, -0.3520,  ...,  0.7109, -0.1036,  0.2769],\n",
       "        [-0.1962, -0.6386,  0.0139,  ...,  0.7777,  0.1578, -0.0286]],\n",
       "       grad_fn=<TanhBackward>)"
      ]
     },
     "execution_count": 7,
     "metadata": {},
     "output_type": "execute_result"
    }
   ],
   "source": [
    "pred"
   ]
  },
  {
   "cell_type": "code",
   "execution_count": 8,
   "metadata": {},
   "outputs": [],
   "source": [
    "rnn = modeling.RNN(rnn_cell=modeling.RNNCell(in_features=128, hidden_features=64))"
   ]
  },
  {
   "cell_type": "code",
   "execution_count": 9,
   "metadata": {},
   "outputs": [],
   "source": [
    "x = torch.rand(32, 64, 128)"
   ]
  },
  {
   "cell_type": "code",
   "execution_count": 10,
   "metadata": {},
   "outputs": [],
   "source": [
    "hiddens = rnn(x)"
   ]
  },
  {
   "cell_type": "code",
   "execution_count": 11,
   "metadata": {},
   "outputs": [
    {
     "data": {
      "text/plain": [
       "torch.Size([32, 64, 64])"
      ]
     },
     "execution_count": 11,
     "metadata": {},
     "output_type": "execute_result"
    }
   ],
   "source": [
    "hiddens.shape"
   ]
  },
  {
   "cell_type": "code",
   "execution_count": 12,
   "metadata": {},
   "outputs": [],
   "source": [
    "rnn = modeling.RNN(rnn_cell=modeling.RNNCell(in_features=128, hidden_features=64), output_last=True)"
   ]
  },
  {
   "cell_type": "code",
   "execution_count": 13,
   "metadata": {},
   "outputs": [
    {
     "data": {
      "text/plain": [
       "RNN(\n",
       "  (rnn_cell): RNNCell(\n",
       "    (input_linear): Linear(in_features=128, out_features=64, bias=True)\n",
       "    (memory_linear): Linear(in_features=64, out_features=64, bias=True)\n",
       "  )\n",
       ")"
      ]
     },
     "execution_count": 13,
     "metadata": {},
     "output_type": "execute_result"
    }
   ],
   "source": [
    "rnn"
   ]
  },
  {
   "cell_type": "code",
   "execution_count": 14,
   "metadata": {},
   "outputs": [],
   "source": [
    "x = torch.rand(32, 64, 128)"
   ]
  },
  {
   "cell_type": "code",
   "execution_count": 15,
   "metadata": {},
   "outputs": [],
   "source": [
    "hiddens = rnn(x)"
   ]
  },
  {
   "cell_type": "code",
   "execution_count": 16,
   "metadata": {},
   "outputs": [
    {
     "data": {
      "text/plain": [
       "torch.Size([32, 64])"
      ]
     },
     "execution_count": 16,
     "metadata": {},
     "output_type": "execute_result"
    }
   ],
   "source": [
    "hiddens.shape"
   ]
  },
  {
   "cell_type": "code",
   "execution_count": 17,
   "metadata": {},
   "outputs": [
    {
     "data": {
      "text/plain": [
       "tensor([[-0.1447,  0.3517, -0.0885,  ...,  0.5245, -0.2525, -0.2523],\n",
       "        [-0.3391,  0.6071,  0.2502,  ...,  0.4700, -0.1598, -0.6810],\n",
       "        [-0.3252,  0.2833,  0.3660,  ...,  0.3193,  0.0499, -0.7865],\n",
       "        ...,\n",
       "        [-0.4222,  0.3862,  0.2638,  ...,  0.3958, -0.1276, -0.6503],\n",
       "        [-0.1737,  0.6961,  0.1192,  ...,  0.4698, -0.2408, -0.7065],\n",
       "        [ 0.1545,  0.2464,  0.4547,  ...,  0.3895,  0.0871, -0.7643]],\n",
       "       grad_fn=<SqueezeBackward0>)"
      ]
     },
     "execution_count": 17,
     "metadata": {},
     "output_type": "execute_result"
    }
   ],
   "source": [
    "hiddens"
   ]
  },
  {
   "cell_type": "code",
   "execution_count": 18,
   "metadata": {},
   "outputs": [
    {
     "data": {
      "text/plain": [
       "RNN(\n",
       "  (rnn_cell): RNNCell(\n",
       "    (input_linear): Linear(in_features=128, out_features=64, bias=True)\n",
       "    (memory_linear): Linear(in_features=64, out_features=64, bias=True)\n",
       "  )\n",
       ")"
      ]
     },
     "execution_count": 18,
     "metadata": {},
     "output_type": "execute_result"
    }
   ],
   "source": [
    "rnn"
   ]
  },
  {
   "cell_type": "code",
   "execution_count": 19,
   "metadata": {},
   "outputs": [],
   "source": [
    "lstm_cell = modeling.LSTMCell(in_features=128, hidden_features=64)"
   ]
  },
  {
   "cell_type": "code",
   "execution_count": 20,
   "metadata": {},
   "outputs": [],
   "source": [
    "def mult(shapes):\n",
    "    \n",
    "    result = 1\n",
    "    \n",
    "    for i in shapes:\n",
    "        result *= i\n",
    "        \n",
    "    return result"
   ]
  },
  {
   "cell_type": "code",
   "execution_count": 21,
   "metadata": {},
   "outputs": [],
   "source": [
    "def n_params(model):\n",
    "    \n",
    "    return sum([mult(p.shape) for p in model.parameters()])"
   ]
  },
  {
   "cell_type": "code",
   "execution_count": 22,
   "metadata": {},
   "outputs": [
    {
     "data": {
      "text/plain": [
       "49664"
      ]
     },
     "execution_count": 22,
     "metadata": {},
     "output_type": "execute_result"
    }
   ],
   "source": [
    "n_params(lstm_cell)"
   ]
  },
  {
   "cell_type": "code",
   "execution_count": 23,
   "metadata": {},
   "outputs": [
    {
     "data": {
      "text/plain": [
       "torch.Size([32, 64, 128])"
      ]
     },
     "execution_count": 23,
     "metadata": {},
     "output_type": "execute_result"
    }
   ],
   "source": [
    "x.shape"
   ]
  },
  {
   "cell_type": "code",
   "execution_count": 24,
   "metadata": {},
   "outputs": [],
   "source": [
    "x_0 = x[0].squeeze()"
   ]
  },
  {
   "cell_type": "code",
   "execution_count": 25,
   "metadata": {},
   "outputs": [
    {
     "data": {
      "text/plain": [
       "torch.Size([64, 128])"
      ]
     },
     "execution_count": 25,
     "metadata": {},
     "output_type": "execute_result"
    }
   ],
   "source": [
    "x_0.shape"
   ]
  },
  {
   "cell_type": "code",
   "execution_count": 26,
   "metadata": {},
   "outputs": [],
   "source": [
    "output, (hidden, cell) = lstm_cell(x_0)"
   ]
  },
  {
   "cell_type": "code",
   "execution_count": 27,
   "metadata": {},
   "outputs": [
    {
     "data": {
      "text/plain": [
       "torch.Size([64, 64])"
      ]
     },
     "execution_count": 27,
     "metadata": {},
     "output_type": "execute_result"
    }
   ],
   "source": [
    "output.shape"
   ]
  },
  {
   "cell_type": "code",
   "execution_count": 28,
   "metadata": {},
   "outputs": [
    {
     "data": {
      "text/plain": [
       "torch.Size([64, 64])"
      ]
     },
     "execution_count": 28,
     "metadata": {},
     "output_type": "execute_result"
    }
   ],
   "source": [
    "hidden.shape"
   ]
  },
  {
   "cell_type": "code",
   "execution_count": 29,
   "metadata": {},
   "outputs": [
    {
     "data": {
      "text/plain": [
       "torch.Size([64, 64])"
      ]
     },
     "execution_count": 29,
     "metadata": {},
     "output_type": "execute_result"
    }
   ],
   "source": [
    "cell.shape"
   ]
  },
  {
   "cell_type": "code",
   "execution_count": 30,
   "metadata": {},
   "outputs": [
    {
     "data": {
      "text/plain": [
       "LSTMCell(\n",
       "  (forget_gate_input): Linear(in_features=128, out_features=64, bias=True)\n",
       "  (forget_gate_hidden): Linear(in_features=64, out_features=64, bias=True)\n",
       "  (in_gate_input): Linear(in_features=128, out_features=64, bias=True)\n",
       "  (in_gate_hidden): Linear(in_features=64, out_features=64, bias=True)\n",
       "  (cell_gate_input): Linear(in_features=128, out_features=64, bias=True)\n",
       "  (cell_gate_hidden): Linear(in_features=64, out_features=64, bias=True)\n",
       "  (out_gate_input): Linear(in_features=128, out_features=64, bias=True)\n",
       "  (out_gate_hidden): Linear(in_features=64, out_features=64, bias=True)\n",
       ")"
      ]
     },
     "execution_count": 30,
     "metadata": {},
     "output_type": "execute_result"
    }
   ],
   "source": [
    "lstm_cell"
   ]
  },
  {
   "cell_type": "code",
   "execution_count": 31,
   "metadata": {},
   "outputs": [],
   "source": [
    "lstm = modeling.RNN(rnn_cell=modeling.LSTMCell(in_features=128, hidden_features=64))"
   ]
  },
  {
   "cell_type": "code",
   "execution_count": 32,
   "metadata": {},
   "outputs": [],
   "source": [
    "x = torch.rand(32, 64, 128)"
   ]
  },
  {
   "cell_type": "code",
   "execution_count": 33,
   "metadata": {},
   "outputs": [],
   "source": [
    "pred = lstm(x)"
   ]
  },
  {
   "cell_type": "code",
   "execution_count": 34,
   "metadata": {},
   "outputs": [
    {
     "data": {
      "text/plain": [
       "torch.Size([32, 64, 64])"
      ]
     },
     "execution_count": 34,
     "metadata": {},
     "output_type": "execute_result"
    }
   ],
   "source": [
    "pred.shape"
   ]
  },
  {
   "cell_type": "code",
   "execution_count": 35,
   "metadata": {},
   "outputs": [],
   "source": [
    "bi_lstm = modeling.BidirectionalRNN(rnn_cell_forward=modeling.LSTMCell(in_features=128, hidden_features=64),\n",
    "                                    rnn_cell_backward=modeling.LSTMCell(in_features=128, hidden_features=64))"
   ]
  },
  {
   "cell_type": "code",
   "execution_count": 36,
   "metadata": {},
   "outputs": [
    {
     "data": {
      "text/plain": [
       "99328"
      ]
     },
     "execution_count": 36,
     "metadata": {},
     "output_type": "execute_result"
    }
   ],
   "source": [
    "n_params(bi_lstm)"
   ]
  },
  {
   "cell_type": "code",
   "execution_count": 37,
   "metadata": {},
   "outputs": [],
   "source": [
    "hiddens = bi_lstm(x)"
   ]
  },
  {
   "cell_type": "code",
   "execution_count": 38,
   "metadata": {},
   "outputs": [
    {
     "data": {
      "text/plain": [
       "torch.Size([32, 2, 64, 64])"
      ]
     },
     "execution_count": 38,
     "metadata": {},
     "output_type": "execute_result"
    }
   ],
   "source": [
    "hiddens.shape"
   ]
  },
  {
   "cell_type": "code",
   "execution_count": 39,
   "metadata": {},
   "outputs": [],
   "source": [
    "bi_lstm = modeling.BidirectionalRNN(rnn_cell_forward=modeling.LSTMCell(in_features=128, hidden_features=64), \n",
    "                                    rnn_cell_backward=modeling.LSTMCell(in_features=128, hidden_features=64),\n",
    "                                    output_last=True)"
   ]
  },
  {
   "cell_type": "code",
   "execution_count": 40,
   "metadata": {},
   "outputs": [],
   "source": [
    "hiddens = bi_lstm(x)"
   ]
  },
  {
   "cell_type": "code",
   "execution_count": 41,
   "metadata": {},
   "outputs": [
    {
     "data": {
      "text/plain": [
       "torch.Size([32, 2, 64])"
      ]
     },
     "execution_count": 41,
     "metadata": {},
     "output_type": "execute_result"
    }
   ],
   "source": [
    "hiddens.shape"
   ]
  },
  {
   "cell_type": "code",
   "execution_count": 42,
   "metadata": {},
   "outputs": [
    {
     "data": {
      "text/plain": [
       "BidirectionalRNN(\n",
       "  (rnn_cell_forward): LSTMCell(\n",
       "    (forget_gate_input): Linear(in_features=128, out_features=64, bias=True)\n",
       "    (forget_gate_hidden): Linear(in_features=64, out_features=64, bias=True)\n",
       "    (in_gate_input): Linear(in_features=128, out_features=64, bias=True)\n",
       "    (in_gate_hidden): Linear(in_features=64, out_features=64, bias=True)\n",
       "    (cell_gate_input): Linear(in_features=128, out_features=64, bias=True)\n",
       "    (cell_gate_hidden): Linear(in_features=64, out_features=64, bias=True)\n",
       "    (out_gate_input): Linear(in_features=128, out_features=64, bias=True)\n",
       "    (out_gate_hidden): Linear(in_features=64, out_features=64, bias=True)\n",
       "  )\n",
       "  (rnn_cell_backward): LSTMCell(\n",
       "    (forget_gate_input): Linear(in_features=128, out_features=64, bias=True)\n",
       "    (forget_gate_hidden): Linear(in_features=64, out_features=64, bias=True)\n",
       "    (in_gate_input): Linear(in_features=128, out_features=64, bias=True)\n",
       "    (in_gate_hidden): Linear(in_features=64, out_features=64, bias=True)\n",
       "    (cell_gate_input): Linear(in_features=128, out_features=64, bias=True)\n",
       "    (cell_gate_hidden): Linear(in_features=64, out_features=64, bias=True)\n",
       "    (out_gate_input): Linear(in_features=128, out_features=64, bias=True)\n",
       "    (out_gate_hidden): Linear(in_features=64, out_features=64, bias=True)\n",
       "  )\n",
       ")"
      ]
     },
     "execution_count": 42,
     "metadata": {},
     "output_type": "execute_result"
    }
   ],
   "source": [
    "bi_lstm"
   ]
  },
  {
   "cell_type": "code",
   "execution_count": null,
   "metadata": {},
   "outputs": [],
   "source": []
  }
 ],
 "metadata": {
  "kernelspec": {
   "display_name": "Python 3",
   "language": "python",
   "name": "python3"
  },
  "language_info": {
   "codemirror_mode": {
    "name": "ipython",
    "version": 3
   },
   "file_extension": ".py",
   "mimetype": "text/x-python",
   "name": "python",
   "nbconvert_exporter": "python",
   "pygments_lexer": "ipython3",
   "version": "3.7.3"
  }
 },
 "nbformat": 4,
 "nbformat_minor": 2
}

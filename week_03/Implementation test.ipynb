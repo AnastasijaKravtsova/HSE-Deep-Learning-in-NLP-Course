{
 "cells": [
  {
   "cell_type": "code",
   "execution_count": 1,
   "metadata": {},
   "outputs": [],
   "source": [
    "import torch\n",
    "import modeling"
   ]
  },
  {
   "cell_type": "code",
   "execution_count": 2,
   "metadata": {},
   "outputs": [],
   "source": [
    "rnn_cell = modeling.RNNCell(in_features=128, hidden_features=64)"
   ]
  },
  {
   "cell_type": "code",
   "execution_count": 3,
   "metadata": {},
   "outputs": [],
   "source": [
    "x = torch.rand(32, 128)"
   ]
  },
  {
   "cell_type": "code",
   "execution_count": 4,
   "metadata": {},
   "outputs": [],
   "source": [
    "memory = rnn_cell.init_memory(batch_size=x.shape[0])"
   ]
  },
  {
   "cell_type": "code",
   "execution_count": 5,
   "metadata": {},
   "outputs": [],
   "source": [
    "pred, memory = rnn_cell(x, memory)"
   ]
  },
  {
   "cell_type": "code",
   "execution_count": 6,
   "metadata": {},
   "outputs": [
    {
     "data": {
      "text/plain": [
       "torch.Size([32, 64])"
      ]
     },
     "execution_count": 6,
     "metadata": {},
     "output_type": "execute_result"
    }
   ],
   "source": [
    "pred.shape"
   ]
  },
  {
   "cell_type": "code",
   "execution_count": 7,
   "metadata": {},
   "outputs": [
    {
     "data": {
      "text/plain": [
       "tensor([[-0.0651, -0.4203,  0.2848,  ...,  0.0268,  0.2710, -0.5656],\n",
       "        [-0.2416, -0.6598,  0.5456,  ..., -0.1998,  0.1020, -0.6889],\n",
       "        [-0.3814, -0.5202,  0.4697,  ...,  0.0243,  0.1561, -0.6879],\n",
       "        ...,\n",
       "        [-0.0147, -0.4815,  0.4722,  ...,  0.0567,  0.2315, -0.6212],\n",
       "        [-0.1974, -0.3412,  0.4346,  ..., -0.1991, -0.0600, -0.2572],\n",
       "        [-0.2033, -0.4515,  0.3694,  ...,  0.0057,  0.0714, -0.7429]],\n",
       "       grad_fn=<TanhBackward>)"
      ]
     },
     "execution_count": 7,
     "metadata": {},
     "output_type": "execute_result"
    }
   ],
   "source": [
    "pred"
   ]
  },
  {
   "cell_type": "code",
   "execution_count": 8,
   "metadata": {},
   "outputs": [],
   "source": [
    "rnn = modeling.RNN(rnn_cell=modeling.RNNCell(in_features=128, hidden_features=64))"
   ]
  },
  {
   "cell_type": "code",
   "execution_count": 9,
   "metadata": {},
   "outputs": [],
   "source": [
    "x = torch.rand(32, 64, 128)"
   ]
  },
  {
   "cell_type": "code",
   "execution_count": 10,
   "metadata": {},
   "outputs": [],
   "source": [
    "hiddens = rnn(x)"
   ]
  },
  {
   "cell_type": "code",
   "execution_count": 11,
   "metadata": {},
   "outputs": [
    {
     "data": {
      "text/plain": [
       "torch.Size([32, 64, 64])"
      ]
     },
     "execution_count": 11,
     "metadata": {},
     "output_type": "execute_result"
    }
   ],
   "source": [
    "hiddens.shape"
   ]
  },
  {
   "cell_type": "code",
   "execution_count": 12,
   "metadata": {},
   "outputs": [],
   "source": [
    "rnn = modeling.RNN(rnn_cell=modeling.RNNCell(in_features=128, hidden_features=64), output_last=True)"
   ]
  },
  {
   "cell_type": "code",
   "execution_count": 13,
   "metadata": {},
   "outputs": [
    {
     "data": {
      "text/plain": [
       "RNN(\n",
       "  (rnn_cell): RNNCell(\n",
       "    (input_linear): Linear(in_features=128, out_features=64, bias=True)\n",
       "    (memory_linear): Linear(in_features=64, out_features=64, bias=True)\n",
       "  )\n",
       ")"
      ]
     },
     "execution_count": 13,
     "metadata": {},
     "output_type": "execute_result"
    }
   ],
   "source": [
    "rnn"
   ]
  },
  {
   "cell_type": "code",
   "execution_count": 14,
   "metadata": {},
   "outputs": [],
   "source": [
    "x = torch.rand(32, 64, 128)"
   ]
  },
  {
   "cell_type": "code",
   "execution_count": 15,
   "metadata": {},
   "outputs": [],
   "source": [
    "hiddens = rnn(x)"
   ]
  },
  {
   "cell_type": "code",
   "execution_count": 16,
   "metadata": {},
   "outputs": [
    {
     "data": {
      "text/plain": [
       "torch.Size([32, 64])"
      ]
     },
     "execution_count": 16,
     "metadata": {},
     "output_type": "execute_result"
    }
   ],
   "source": [
    "hiddens.shape"
   ]
  },
  {
   "cell_type": "code",
   "execution_count": 17,
   "metadata": {},
   "outputs": [
    {
     "data": {
      "text/plain": [
       "tensor([[-0.3070,  0.1827,  0.1650,  ...,  0.0149, -0.3389, -0.0159],\n",
       "        [-0.1961, -0.0348,  0.3140,  ...,  0.1178, -0.1746, -0.2944],\n",
       "        [-0.1999, -0.2278,  0.2596,  ..., -0.0030, -0.3328, -0.1432],\n",
       "        ...,\n",
       "        [-0.1677, -0.0399,  0.0925,  ...,  0.2667, -0.3900,  0.0542],\n",
       "        [-0.1550,  0.4114,  0.2531,  ..., -0.0120,  0.0215,  0.3434],\n",
       "        [-0.3744, -0.0557, -0.0739,  ...,  0.1852, -0.4326,  0.0766]],\n",
       "       grad_fn=<SqueezeBackward0>)"
      ]
     },
     "execution_count": 17,
     "metadata": {},
     "output_type": "execute_result"
    }
   ],
   "source": [
    "hiddens"
   ]
  },
  {
   "cell_type": "code",
   "execution_count": 18,
   "metadata": {},
   "outputs": [
    {
     "data": {
      "text/plain": [
       "RNN(\n",
       "  (rnn_cell): RNNCell(\n",
       "    (input_linear): Linear(in_features=128, out_features=64, bias=True)\n",
       "    (memory_linear): Linear(in_features=64, out_features=64, bias=True)\n",
       "  )\n",
       ")"
      ]
     },
     "execution_count": 18,
     "metadata": {},
     "output_type": "execute_result"
    }
   ],
   "source": [
    "rnn"
   ]
  },
  {
   "cell_type": "code",
   "execution_count": 19,
   "metadata": {},
   "outputs": [],
   "source": [
    "lstm_cell = modeling.LSTMCell(in_features=128, hidden_features=64)"
   ]
  },
  {
   "cell_type": "code",
   "execution_count": 20,
   "metadata": {},
   "outputs": [],
   "source": [
    "def mult(shapes):\n",
    "    \n",
    "    result = 1\n",
    "    \n",
    "    for i in shapes:\n",
    "        result *= i\n",
    "        \n",
    "    return result"
   ]
  },
  {
   "cell_type": "code",
   "execution_count": 21,
   "metadata": {},
   "outputs": [],
   "source": [
    "def n_params(model):\n",
    "    \n",
    "    return sum([mult(p.shape) for p in model.parameters()])"
   ]
  },
  {
   "cell_type": "code",
   "execution_count": 22,
   "metadata": {},
   "outputs": [
    {
     "data": {
      "text/plain": [
       "49664"
      ]
     },
     "execution_count": 22,
     "metadata": {},
     "output_type": "execute_result"
    }
   ],
   "source": [
    "n_params(lstm_cell)"
   ]
  },
  {
   "cell_type": "code",
   "execution_count": 23,
   "metadata": {},
   "outputs": [
    {
     "data": {
      "text/plain": [
       "torch.Size([32, 64, 128])"
      ]
     },
     "execution_count": 23,
     "metadata": {},
     "output_type": "execute_result"
    }
   ],
   "source": [
    "x.shape"
   ]
  },
  {
   "cell_type": "code",
   "execution_count": 24,
   "metadata": {},
   "outputs": [],
   "source": [
    "x_0 = x[0].squeeze()"
   ]
  },
  {
   "cell_type": "code",
   "execution_count": 25,
   "metadata": {},
   "outputs": [
    {
     "data": {
      "text/plain": [
       "torch.Size([64, 128])"
      ]
     },
     "execution_count": 25,
     "metadata": {},
     "output_type": "execute_result"
    }
   ],
   "source": [
    "x_0.shape"
   ]
  },
  {
   "cell_type": "code",
   "execution_count": 26,
   "metadata": {},
   "outputs": [],
   "source": [
    "output, (hidden, cell) = lstm_cell(x_0)"
   ]
  },
  {
   "cell_type": "code",
   "execution_count": 27,
   "metadata": {},
   "outputs": [
    {
     "data": {
      "text/plain": [
       "torch.Size([64, 64])"
      ]
     },
     "execution_count": 27,
     "metadata": {},
     "output_type": "execute_result"
    }
   ],
   "source": [
    "output.shape"
   ]
  },
  {
   "cell_type": "code",
   "execution_count": 28,
   "metadata": {},
   "outputs": [
    {
     "data": {
      "text/plain": [
       "torch.Size([64, 64])"
      ]
     },
     "execution_count": 28,
     "metadata": {},
     "output_type": "execute_result"
    }
   ],
   "source": [
    "hidden.shape"
   ]
  },
  {
   "cell_type": "code",
   "execution_count": 29,
   "metadata": {},
   "outputs": [
    {
     "data": {
      "text/plain": [
       "torch.Size([64, 64])"
      ]
     },
     "execution_count": 29,
     "metadata": {},
     "output_type": "execute_result"
    }
   ],
   "source": [
    "cell.shape"
   ]
  },
  {
   "cell_type": "code",
   "execution_count": 30,
   "metadata": {},
   "outputs": [
    {
     "data": {
      "text/plain": [
       "LSTMCell(\n",
       "  (forget_gate_input): Linear(in_features=128, out_features=64, bias=True)\n",
       "  (forget_gate_hidden): Linear(in_features=64, out_features=64, bias=True)\n",
       "  (in_gate_input): Linear(in_features=128, out_features=64, bias=True)\n",
       "  (in_gate_hidden): Linear(in_features=64, out_features=64, bias=True)\n",
       "  (cell_gate_input): Linear(in_features=128, out_features=64, bias=True)\n",
       "  (cell_gate_hidden): Linear(in_features=64, out_features=64, bias=True)\n",
       "  (out_gate_input): Linear(in_features=128, out_features=64, bias=True)\n",
       "  (out_gate_hidden): Linear(in_features=64, out_features=64, bias=True)\n",
       ")"
      ]
     },
     "execution_count": 30,
     "metadata": {},
     "output_type": "execute_result"
    }
   ],
   "source": [
    "lstm_cell"
   ]
  },
  {
   "cell_type": "code",
   "execution_count": 31,
   "metadata": {},
   "outputs": [],
   "source": [
    "lstm = modeling.RNN(rnn_cell=modeling.LSTMCell(in_features=128, hidden_features=64))"
   ]
  },
  {
   "cell_type": "code",
   "execution_count": 32,
   "metadata": {},
   "outputs": [],
   "source": [
    "x = torch.rand(32, 64, 128)"
   ]
  },
  {
   "cell_type": "code",
   "execution_count": 33,
   "metadata": {},
   "outputs": [],
   "source": [
    "pred = lstm(x)"
   ]
  },
  {
   "cell_type": "code",
   "execution_count": 34,
   "metadata": {},
   "outputs": [
    {
     "data": {
      "text/plain": [
       "torch.Size([32, 64, 64])"
      ]
     },
     "execution_count": 34,
     "metadata": {},
     "output_type": "execute_result"
    }
   ],
   "source": [
    "pred.shape"
   ]
  },
  {
   "cell_type": "code",
   "execution_count": 35,
   "metadata": {},
   "outputs": [],
   "source": [
    "bi_lstm = modeling.BidirectionalRNN(rnn_cell_forward=modeling.LSTMCell(in_features=128, hidden_features=64),\n",
    "                                    rnn_cell_backward=modeling.LSTMCell(in_features=128, hidden_features=64))"
   ]
  },
  {
   "cell_type": "code",
   "execution_count": 36,
   "metadata": {},
   "outputs": [
    {
     "data": {
      "text/plain": [
       "99328"
      ]
     },
     "execution_count": 36,
     "metadata": {},
     "output_type": "execute_result"
    }
   ],
   "source": [
    "n_params(bi_lstm)"
   ]
  },
  {
   "cell_type": "code",
   "execution_count": 37,
   "metadata": {},
   "outputs": [],
   "source": [
    "hiddens = bi_lstm(x)"
   ]
  },
  {
   "cell_type": "code",
   "execution_count": 38,
   "metadata": {},
   "outputs": [
    {
     "data": {
      "text/plain": [
       "torch.Size([32, 2, 64, 64])"
      ]
     },
     "execution_count": 38,
     "metadata": {},
     "output_type": "execute_result"
    }
   ],
   "source": [
    "hiddens.shape"
   ]
  },
  {
   "cell_type": "code",
   "execution_count": 39,
   "metadata": {},
   "outputs": [],
   "source": [
    "bi_lstm = modeling.BidirectionalRNN(rnn_cell_forward=modeling.LSTMCell(in_features=128, hidden_features=64), \n",
    "                                    rnn_cell_backward=modeling.LSTMCell(in_features=128, hidden_features=64),\n",
    "                                    output_last=True)"
   ]
  },
  {
   "cell_type": "code",
   "execution_count": 40,
   "metadata": {},
   "outputs": [],
   "source": [
    "hiddens = bi_lstm(x)"
   ]
  },
  {
   "cell_type": "code",
   "execution_count": 41,
   "metadata": {},
   "outputs": [
    {
     "data": {
      "text/plain": [
       "torch.Size([32, 2, 64])"
      ]
     },
     "execution_count": 41,
     "metadata": {},
     "output_type": "execute_result"
    }
   ],
   "source": [
    "hiddens.shape"
   ]
  },
  {
   "cell_type": "code",
   "execution_count": 42,
   "metadata": {},
   "outputs": [
    {
     "data": {
      "text/plain": [
       "BidirectionalRNN(\n",
       "  (rnn_cell_forward): LSTMCell(\n",
       "    (forget_gate_input): Linear(in_features=128, out_features=64, bias=True)\n",
       "    (forget_gate_hidden): Linear(in_features=64, out_features=64, bias=True)\n",
       "    (in_gate_input): Linear(in_features=128, out_features=64, bias=True)\n",
       "    (in_gate_hidden): Linear(in_features=64, out_features=64, bias=True)\n",
       "    (cell_gate_input): Linear(in_features=128, out_features=64, bias=True)\n",
       "    (cell_gate_hidden): Linear(in_features=64, out_features=64, bias=True)\n",
       "    (out_gate_input): Linear(in_features=128, out_features=64, bias=True)\n",
       "    (out_gate_hidden): Linear(in_features=64, out_features=64, bias=True)\n",
       "  )\n",
       "  (rnn_cell_backward): LSTMCell(\n",
       "    (forget_gate_input): Linear(in_features=128, out_features=64, bias=True)\n",
       "    (forget_gate_hidden): Linear(in_features=64, out_features=64, bias=True)\n",
       "    (in_gate_input): Linear(in_features=128, out_features=64, bias=True)\n",
       "    (in_gate_hidden): Linear(in_features=64, out_features=64, bias=True)\n",
       "    (cell_gate_input): Linear(in_features=128, out_features=64, bias=True)\n",
       "    (cell_gate_hidden): Linear(in_features=64, out_features=64, bias=True)\n",
       "    (out_gate_input): Linear(in_features=128, out_features=64, bias=True)\n",
       "    (out_gate_hidden): Linear(in_features=64, out_features=64, bias=True)\n",
       "  )\n",
       ")"
      ]
     },
     "execution_count": 42,
     "metadata": {},
     "output_type": "execute_result"
    }
   ],
   "source": [
    "bi_lstm"
   ]
  },
  {
   "cell_type": "code",
   "execution_count": null,
   "metadata": {},
   "outputs": [],
   "source": []
  }
 ],
 "metadata": {
  "kernelspec": {
   "display_name": "Python 3",
   "language": "python",
   "name": "python3"
  },
  "language_info": {
   "codemirror_mode": {
    "name": "ipython",
    "version": 3
   },
   "file_extension": ".py",
   "mimetype": "text/x-python",
   "name": "python",
   "nbconvert_exporter": "python",
   "pygments_lexer": "ipython3",
   "version": "3.7.3"
  }
 },
 "nbformat": 4,
 "nbformat_minor": 2
}
